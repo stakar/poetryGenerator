{
 "cells": [
  {
   "cell_type": "markdown",
   "metadata": {},
   "source": [
    "# Poetry generator 0.1\n",
    "\n",
    "This project aims in creating poetry generator, made of webscraper obtaining polish text data from wolnelektury.pl, then using keras model to create neural net generating poetry. "
   ]
  },
  {
   "cell_type": "code",
   "execution_count": 1,
   "metadata": {},
   "outputs": [
    {
     "name": "stderr",
     "output_type": "stream",
     "text": [
      "Using TensorFlow backend.\n"
     ]
    },
    {
     "name": "stdout",
     "output_type": "stream",
     "text": [
      "Scrapper object created!\n",
      "https://wolnelektury.pl/\n",
      "https://wolnelektury.pl/katalog/gatunek/wiersz/epoka/pozytywizm\n",
      "https://wolnelektury.pl/katalog/gatunek/wiersz/epoka/pozytywizm/\n",
      "Detecting text info: English text, dismissed\n"
     ]
    }
   ],
   "source": [
    "from tools.scraper import *\n",
    "from tools.clean_doc import *\n",
    "from tools.sentence_generation import *\n",
    "from tools.charsGenerator import *\n",
    "\n",
    "\n",
    "if __name__ == '__main__':\n",
    "    scrap = Scrapper(SITE)\n",
    "    print('Scrapper object created!')\n",
    "    uno = scrap.filter_catalog(['gatunek','epoka'],['wiersz','pozytywizm'])\n",
    "    print(uno)\n",
    "    scrap.open_site(uno)\n",
    "    print(scrap.site)\n",
    "    links = scrap.preparing_links()\n",
    "    texts = list()\n",
    "    for n in range(10):\n",
    "        try:\n",
    "            link = scrap.detect_txt(links[n])\n",
    "            texts.append(scrap.download_txt(link))\n",
    "        except:\n",
    "            pass\n",
    "    dataset = ''.join(texts)\n",
    "    with open('dataset_poz.txt','w+',encoding='utf-8') as file:\n",
    "        file.write(dataset)"
   ]
  },
  {
   "cell_type": "markdown",
   "metadata": {},
   "source": [
    "# Char generating model"
   ]
  },
  {
   "cell_type": "code",
   "execution_count": 2,
   "metadata": {},
   "outputs": [
    {
     "name": "stdout",
     "output_type": "stream",
     "text": [
      "Document loaded\n",
      "Corpus length: 937013\n",
      "total chars: 32\n",
      "Example chars: ['\\n', ' ', 'a', 'b', 'c', 'd', 'e', 'g', 'h', 'i']\n",
      "Char indexes: [0, 1, 2, 3, 4, 5, 6, 7, 8, 9]\n",
      "nb sequences: 33320\n",
      "WARNING:tensorflow:From C:\\Users\\stakar\\Anaconda3\\lib\\site-packages\\tensorflow\\python\\framework\\op_def_library.py:263: colocate_with (from tensorflow.python.framework.ops) is deprecated and will be removed in a future version.\n",
      "Instructions for updating:\n",
      "Colocations handled automatically by placer.\n",
      "WARNING:tensorflow:From C:\\Users\\stakar\\Anaconda3\\lib\\site-packages\\tensorflow\\python\\ops\\math_ops.py:3066: to_int32 (from tensorflow.python.ops.math_ops) is deprecated and will be removed in a future version.\n",
      "Instructions for updating:\n",
      "Use tf.cast instead.\n",
      "----- diversity: 0.2\n",
      "----- Generating with seed: \"ankiecie braciej a w ostatku chcąc zosta\"\n",
      "ankiecie braciej a w ostatku chcąc zostatym o pościoła doprzydko się niesi w droga saro do na siem przyczy ni szę nie do jawieliszy jaką do przyczy ni szatku choć ja brawka się nie powiecie dlieki wszyko jużąc kożesię niemiew driecie do tatem dognił ja być nie do taremi i wielidwi lidzą likę do wimm jez nie siecki choć ja bać i tro jawi nie ni w dostatku rzakko do podachoda driecie do tatem o przydko się nie niecienawieledwie nieciesuri\n",
      "----- diversity: 0.5\n",
      "----- Generating with seed: \"ankiecie braciej a w ostatku chcąc zosta\"\n",
      "ankiecie braciej a w ostatku chcąc zostatku choć bożesz woroch dale i w dochejra bredkia surienaw rzecki jdz żelej kttre w wiem dostam kościela orarejda dlidzi laże  rakiem dogeki wszydna suriejaką tro ja jaki u lienie  braciej o jaki jakby tro d niem w kościela dodem przeciesa nie ił na siaczy roku do w siną do przytko b ć i dosko nie sięcy dostają doleni w dostatku rzakko rocą dale i w stocąy doprzacby obrzedko rażą d teroja jaki chod\n",
      "----- diversity: 1.0\n",
      "----- Generating with seed: \"ankiecie braciej a w ostatku chcąc zosta\"\n",
      "ankiecie braciej a w ostatku chcąc zostaceciem ziekim poraóby kobi ra by komrzów lędnisz a brzdkko dyuże aliesiączim w tre dni siacz o zrzew m krecą przycky duszy jakę j kobe wiedcko dlużej z stole wi zczyłchoć niem sietku się ja prwtkczycho za na sincinu ni siem zezęc włrucsy nte wprzesz a żydajea iawić z wiechw zieroduchzielidżsurakby t tudz onieiku wied że czoć jo bać nie borucieł łatym choreromrawszy na jadniaci sanie rszydo rzenkił\n",
      "----- diversity: 1.2\n",
      "----- Generating with seed: \"ankiecie braciej a w ostatku chcąc zosta\"\n",
      "ankiecie braciej a w ostatku chcąc zostakbe w mrojach nraksem juczy wę t trejpodwićrk dosiarkkdydnu nktreycho tarza dlurzleliu żalegnimisko rówkde doilestyle a simę jhżkę mrówkdziszą rokudki strzydł w trtycie powe sięm mpktem mrelędy że wiecke umuśnie nietai orrzówklem  je niesi w dro w dnie c żo jużym bie bożyz lęsy w sinkidcd na onuczytrośrawę c wiem jawi ruduke oąrzyczy żu simmię ślienkieją w dęcze prketku juobo żeśliszc ketyjew dogg\n"
     ]
    },
    {
     "data": {
      "text/plain": [
       "[{0.2: 'ankiecie braciej a w ostatku chcąc zostatym o pościoła doprzydko się niesi w droga saro do na siem przyczy ni szę nie do jawieliszy jaką do przyczy ni szatku choć ja brawka się nie powiecie dlieki wszyko jużąc kożesię niemiew driecie do tatem dognił ja być nie do taremi i wielidwi lidzą likę do wimm jez nie siecki choć ja bać i tro jawi nie ni w dostatku rzakko do podachoda driecie do tatem o przydko się nie niecienawieledwie nieciesuri'},\n",
       " {0.5: 'ankiecie braciej a w ostatku chcąc zostatku choć bożesz woroch dale i w dochejra bredkia surienaw rzecki jdz żelej kttre w wiem dostam kościela orarejda dlidzi laże  rakiem dogeki wszydna suriejaką tro ja jaki u lienie  braciej o jaki jakby tro d niem w kościela dodem przeciesa nie ił na siaczy roku do w siną do przytko b ć i dosko nie sięcy dostają doleni w dostatku rzakko rocą dale i w stocąy doprzacby obrzedko rażą d teroja jaki chod'},\n",
       " {1.0: 'ankiecie braciej a w ostatku chcąc zostaceciem ziekim poraóby kobi ra by komrzów lędnisz a brzdkko dyuże aliesiączim w tre dni siacz o zrzew m krecą przycky duszy jakę j kobe wiedcko dlużej z stole wi zczyłchoć niem sietku się ja prwtkczycho za na sincinu ni siem zezęc włrucsy nte wprzesz a żydajea iawić z wiechw zieroduchzielidżsurakby t tudz onieiku wied że czoć jo bać nie borucieł łatym choreromrawszy na jadniaci sanie rszydo rzenkił'},\n",
       " {1.2: 'ankiecie braciej a w ostatku chcąc zostakbe w mrojach nraksem juczy wę t trejpodwićrk dosiarkkdydnu nktreycho tarza dlurzleliu żalegnimisko rówkde doilestyle a simę jhżkę mrówkdziszą rokudki strzydł w trtycie powe sięm mpktem mrelędy że wiecke umuśnie nietai orrzówklem  je niesi w dro w dnie c żo jużym bie bożyz lęsy w sinkidcd na onuczytrośrawę c wiem jawi ruduke oąrzyczy żu simmię ślienkieją w dęcze prketku juobo żeśliszc ketyjew dogg'}]"
      ]
     },
     "execution_count": 2,
     "metadata": {},
     "output_type": "execute_result"
    }
   ],
   "source": [
    "gnm = generateNetChars()\n",
    "gnm.load_dataset('datasets/data_clean.txt')\n",
    "gnm.text = gnm.text[:100000]\n",
    "gnm.prep_data()\n",
    "gnm.load_prev_model('models/model4.h5')\n",
    "gnm.generate(n_texts=1)"
   ]
  },
  {
   "cell_type": "code",
   "execution_count": null,
   "metadata": {},
   "outputs": [],
   "source": []
  },
  {
   "cell_type": "markdown",
   "metadata": {},
   "source": [
    "# Word generating model"
   ]
  },
  {
   "cell_type": "code",
   "execution_count": 4,
   "metadata": {},
   "outputs": [
    {
     "name": "stdout",
     "output_type": "stream",
     "text": [
      "Adam Asnyk\n",
      "Do Sokołów\n",
      "Do lotu, bracia Sokoły!\n",
      "Rozwińcie skrzydlate hufce,\n",
      "Gdzie blask jutrzenki wesoły,\n",
      "Tam dążcie w swojej wędrówce,\n",
      "Do ciał i duchów rozkwitu,\n",
      "Do pełni ludzkiego bytu!\n",
      "Zatoczcie nad \n",
      "['adam', 'asnyk', 'do', 'sokołów', 'do', 'lotu', 'bracia', 'sokoły', 'rozwińcie', 'skrzydlate', 'hufce', 'gdzie', 'blask', 'jutrzenki', 'wesoły', 'tam', 'dążcie', 'w', 'swojej', 'wędrówce', 'do', 'ciał', 'i', 'duchów', 'rozkwitu', 'do', 'pełni', 'ludzkiego', 'bytu', 'zatoczcie', 'nad', 'naszą', 'ziemią', 'słonecznych', 'polotów', 'kręgi', 'i', 'budźcie', 'tych', 'którzy', 'drzemią', 'hasłem', 'wskrzeszonej', 'potęgi', 'i', 'tchnijcie', 'ożywcze', 'moce', 'w', 'smutne', 'dziedzictwo', 'sieroce', 'z', 'uczuciem', 'szlachetnej', 'dumy', 'prowadźcie', 'o', 'przewodnicy', 'zwątlone', 'skarlałe', 'tłumy', 'do', 'czystej', 'życia', 'krynicy', 'aby', 'się', 'rzesze', 'napiły', 'z', 'źródeł', 'młodości', 'i', 'siły', 'niech', 'potężnieją', 'ramiona', 'niech', 'się', 'rozrasta', 'szeroko', 'pierś', 'silną', 'wolą', 'natchniona', 'a', 'męstwem', 'zapłonie', 'oko', 'cielesna', 'niemoc', 'niech', 'znika', 'z', 'nią', 'nędzny', 'duch', 'niewolnika', 'z', 'fizycznej', 'siły', 'wykwita', 'sił', 'wyższych', 'czynność', 'społeczna', 'i', 'mądrość', 'w', 'środki', 'obfita', 'i', 'miłość', 'ludzi', 'słoneczna', 'i', 'wielkich', 'poświęceń', 'zdolność', 'za', 'wiarę', 'ojczyznę', 'wolność', 'więc', 'naprzód', 'wierna', 'drużyno', 'w', 'świetlanym', 'kąp', 'się', 'błękicie', 'a', 'dla', 'tych', 'co', 'marnie', 'giną', 'chcąc', 'nowe', 'wywalczyć', 'życie', 'z', 'niezłomną', 'wolą', 'postanów', 'przemienić', 'karły', 'w', 'tytanów', 'adam', 'asnyk', 'do', 'sokołów', 'do', 'lotu', 'bracia', 'sokoły', 'rozwińcie', 'skrzydlate', 'hufce', 'gdzie', 'blask', 'jutrzenki', 'wesoły', 'tam', 'dążcie', 'w', 'swojej', 'wędrówce', 'do', 'ciał', 'i', 'duchów', 'rozkwitu', 'do', 'pełni', 'ludzkiego', 'bytu', 'zatoczcie', 'nad', 'naszą', 'ziemią', 'słonecznych', 'polotów', 'kręgi', 'i', 'budźcie', 'tych', 'którzy', 'drzemią', 'hasłem', 'wskrzeszonej', 'potęgi', 'i', 'tchnijcie', 'ożywcze', 'moce', 'w']\n",
      "Total Tokens: 2051\n",
      "Unique Tokens: 852\n",
      "Total Sequences: 2000\n",
      "Saving as datasets/data_clean.txt\n"
     ]
    },
    {
     "name": "stderr",
     "output_type": "stream",
     "text": [
      "C:\\Users\\stakar\\Anaconda3\\lib\\site-packages\\keras\\engine\\saving.py:327: UserWarning: Error in loading the saved optimizer state. As a result, your model is starting with a freshly initialized optimizer.\n",
      "  warnings.warn('Error in loading the saved optimizer '\n"
     ]
    },
    {
     "name": "stdout",
     "output_type": "stream",
     "text": [
      "adam asnyk do sokołów do lotu bracia sokoły rozwińcie skrzydlate hufce gdzie blask jutrzenki wesoły tam dążcie w swojej wędrówce do ciał i duchów rozkwitu do pełni ludzkiego bytu zatoczcie nad naszą ziemią słonecznych polotów kręgi i budźcie tych którzy drzemią hasłem wskrzeszonej potęgi i tchnijcie ożywcze moce w smutne dziedzictwo\n"
     ]
    },
    {
     "data": {
      "text/plain": [
       "'                                                 '"
      ]
     },
     "execution_count": 4,
     "metadata": {},
     "output_type": "execute_result"
    }
   ],
   "source": [
    "sM = sentenceModel()\n",
    "sM.prepare_dataset('datasets/dataset_barok.txt','datasets/data_clean.txt')\n",
    "sM.load_model('models/model.h5','models/tokenizer.pkl')\n",
    "sM.generate('datasets/data_clean.txt')"
   ]
  },
  {
   "cell_type": "code",
   "execution_count": null,
   "metadata": {},
   "outputs": [],
   "source": [
    "sM = sentenceModel()\n",
    "sM.prepare_dataset('dataset_barok.txt','data_clean.txt')\n",
    "sM.create_model()\n",
    "sM.compile_model(n_epoch=20)\n",
    "sM.generate('data_clean.txt')\n"
   ]
  }
 ],
 "metadata": {
  "kernelspec": {
   "display_name": "Python 3",
   "language": "python",
   "name": "python3"
  },
  "language_info": {
   "codemirror_mode": {
    "name": "ipython",
    "version": 3
   },
   "file_extension": ".py",
   "mimetype": "text/x-python",
   "name": "python",
   "nbconvert_exporter": "python",
   "pygments_lexer": "ipython3",
   "version": "3.7.3"
  }
 },
 "nbformat": 4,
 "nbformat_minor": 2
}

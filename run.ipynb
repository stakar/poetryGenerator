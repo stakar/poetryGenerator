{
 "cells": [
  {
   "cell_type": "markdown",
   "metadata": {},
   "source": [
    "# Poetry generator 0.1\n",
    "\n",
    "This project aims in creating poetry generator, made of webscraper obtaining polish text data from wolnelektury.pl, then using keras model to create neural net generating poetry. "
   ]
  },
  {
   "cell_type": "code",
   "execution_count": 1,
   "metadata": {},
   "outputs": [
    {
     "name": "stdout",
     "output_type": "stream",
     "text": [
      "Scrapper object created!\n",
      "https://wolnelektury.pl/\n",
      "https://wolnelektury.pl/katalog/gatunek/wiersz/epoka/barok\n",
      "https://wolnelektury.pl/katalog/gatunek/wiersz/epoka/barok/\n",
      "Detecting text info: English text, dismissed\n",
      "Detecting text info: English text, dismissed\n",
      "Detecting text info: English text, dismissed\n"
     ]
    }
   ],
   "source": [
    "from scraper import *\n",
    "\n",
    "if __name__ == '__main__':\n",
    "    scrap = Scrapper(SITE)\n",
    "    print('Scrapper object created!')\n",
    "    uno = scrap.filter_catalog(['gatunek','epoka'],['wiersz','barok'])\n",
    "    print(uno)\n",
    "    scrap.open_site(uno)\n",
    "    print(scrap.site)\n",
    "    links = scrap.preparing_links()\n",
    "    texts = list()\n",
    "    for n in range(10):\n",
    "        try:\n",
    "            link = scrap.detect_txt(links[n])\n",
    "            texts.append(scrap.download_txt(link))\n",
    "        except:\n",
    "            pass\n",
    "    dataset = ''.join(texts)\n",
    "    with open('dataset_barok.txt','w+',encoding='utf-8') as file:\n",
    "        file.write(dataset)"
   ]
  },
  {
   "cell_type": "code",
   "execution_count": null,
   "metadata": {},
   "outputs": [],
   "source": []
  },
  {
   "cell_type": "code",
   "execution_count": null,
   "metadata": {},
   "outputs": [],
   "source": []
  }
 ],
 "metadata": {
  "kernelspec": {
   "display_name": "Python 3",
   "language": "python",
   "name": "python3"
  },
  "language_info": {
   "codemirror_mode": {
    "name": "ipython",
    "version": 3
   },
   "file_extension": ".py",
   "mimetype": "text/x-python",
   "name": "python",
   "nbconvert_exporter": "python",
   "pygments_lexer": "ipython3",
   "version": "3.7.4"
  }
 },
 "nbformat": 4,
 "nbformat_minor": 2
}

{
 "cells": [
  {
   "cell_type": "code",
   "execution_count": 31,
   "metadata": {},
   "outputs": [
    {
     "name": "stdout",
     "output_type": "stream",
     "text": [
      "Scrapper object created!\n",
      "https://wolnelektury.pl/\n",
      "https://wolnelektury.pl/katalog/epoka/pozytywizm/gatunek/wiersz/autor/adam-asnyk/\n"
     ]
    }
   ],
   "source": [
    "import mechanicalsoup\n",
    "import time\n",
    "import json\n",
    "from timeit import default_timer as timer\n",
    "import re\n",
    "from unidecode import unidecode\n",
    "\n",
    "SITE = \"https://wolnelektury.pl/\"  # Default site to work on, tested.\n",
    "\n",
    "\n",
    "class Scrapper:\n",
    "    def __init__(self, site):\n",
    "        \"\"\"\n",
    "        Webscrapper that extracts text data from fanfiction site.\n",
    "        parameters\n",
    "        ----------\n",
    "        site : string\n",
    "        the site from which the data are taken\n",
    "        attributes\n",
    "        ----------\n",
    "        linksOnPage : list\n",
    "        links to the fanfics\n",
    "        downloaded : list\n",
    "        list of all downloaded fanfics\n",
    "        \"\"\"\n",
    "        self.site = site\n",
    "        self.__browser = mechanicalsoup.StatefulBrowser(raise_on_404=True)\n",
    "        self.response = self.__browser.open(self.site)\n",
    "        self.linksOnPage = list()\n",
    "        self.linksToDownload = list()\n",
    "\n",
    "\n",
    "    def open_site(self, site):\n",
    "        \"\"\" Opens the site \"\"\"\n",
    "        self.__browser.open(site)\n",
    "        self.site = self.__browser.get_url()\n",
    "        return site\n",
    "        \n",
    "\n",
    "    def follow_link(self, follow_link):\n",
    "        \"\"\" Follows the link passed as an input \"\"\"\n",
    "        self.__browser.follow_link(follow_link)\n",
    "        return (self.__browser.get_url())\n",
    "\n",
    "    def filter_catalog(self,Filters = [],epoch = 'pozytywizm',genre = 'wiersz',author = 'adam-asnyk'):\n",
    "        \"\"\" Filters the fanficts looking for only the desired settings \"\"\"\n",
    "        URL = str(self.__browser.get_url())\n",
    "        print(URL)\n",
    "        self.author = author\n",
    "        try:\n",
    "            FilterSet = ''\n",
    "            for i in range(len(Filters)):\n",
    "                FilterSet += f'{Filters[i]}/{FilterValues[i]}'\n",
    "                newURL = f'{str(URL)}{FilterSet}'\n",
    "            return newURL\n",
    "        except:\n",
    "            FilterSet = ''\n",
    "            Filters = ['epoka', 'gatunek','autor']  # list of desired filters\n",
    "            FilterValues = [epoch,genre,author]  # list of values for filters\n",
    "            FilterSet = ''\n",
    "            for i in range(len(Filters)):\n",
    "                FilterSet += f'{Filters[i]}/{FilterValues[i]}/'\n",
    "            newURL = f'{str(URL)}katalog/{FilterSet}'\n",
    "            return newURL\n",
    "        \n",
    "    def preparing_links(self):\n",
    "        \"\"\"This module is tasked with finding all links to stories on a search\n",
    "         page of fanfiction.net. It takes a ResultSet of URLs, extracted from\n",
    "         StatefulBrowser, and runs a regular expression.\n",
    "        To reduce calcultions, the module searches only for links to the last\n",
    "         chapters of stories. Then it reconstructs links to the firsts.\n",
    "         Yeah, it's faster that way.\"\"\"\n",
    "\n",
    "        all_links = self.__browser.links()\n",
    "        all_links = all_links[1::2]\n",
    "        name = self.author.split('-')[1]\n",
    "        self.linksOnPage = re.findall(r'katalog/lektura/{}.+\\\"'.format(name), str(all_links))\n",
    "#         self.linksOnPage = all_links \n",
    "        return self.linksOnPage\n",
    "\n",
    "\n",
    "if __name__ == '__main__':\n",
    "    scrap = Scrapper(SITE)\n",
    "    print('Scrapper object created!')\n",
    "    scrap.open_site(scrap.filter_catalog())\n",
    "    print(scrap.site)\n"
   ]
  },
  {
   "cell_type": "code",
   "execution_count": 32,
   "metadata": {},
   "outputs": [
    {
     "data": {
      "text/plain": [
       "['katalog/lektura/asnyk-ze-sceny-swiata/\"><img alt=\"Cover\" class=\"cover\" src=\"/media/book/cover_thumb/asnyk-ze-sceny-swiata_gkaOJkV.jpg\"/></a>, <a href=\"/katalog/lektura/asnyk-ze-sceny-swiata/\">Ze sceny świata</a>, <a href=\"/katalog/rodzaj/liryka/\">Liryka</a>, <a href=\"/info/wymagajace-uwspolczesnienia/\">Ten utwór wymaga uwspółcześnienia</a>, <a href=\"/media/book/epub/asnyk-ze-sceny-swiata.epub\">EPUB</a>, <a class=\"read-more-show hide\" href=\"#\">więcej</a>, <a class=\"read-more-hide hide\" href=\"#\">mniej</a>, <a href=\"/katalog/lektura/asnyk-nad-glebiami/\"><img alt=\"Cover\" class=\"cover\" src=\"/media/book/cover_thumb/asnyk-nad-glebiami_9sWSTIg.jpg\"/></a>, <a href=\"/katalog/lektura/asnyk-nad-glebiami/\">Nad głębiami</a>, <a href=\"/katalog/rodzaj/liryka/\">Liryka</a>, <a href=\"/info/wymagajace-uwspolczesnienia/\">Ten utwór wymaga uwspółcześnienia</a>, <a href=\"/media/book/epub/asnyk-nad-glebiami.epub\">EPUB</a>, <a class=\"read-more-show hide\" href=\"#\">więcej</a>, <a class=\"read-more-hide hide\" href=\"#\">mniej</a>, <a href=\"/katalog/lektura/asnyk-fresk-pompejanski/\"><img alt=\"Cover\" class=\"cover\" src=\"/media/book/cover_thumb/asnyk-fresk-pompejanski_pRfiQGU.jpg\"/></a>, <a href=\"/katalog/lektura/asnyk-fresk-pompejanski/\">Fresk pompejański</a>, <a href=\"/katalog/rodzaj/liryka/\">Liryka</a>, <a href=\"/info/wymagajace-uwspolczesnienia/\">Ten utwór wymaga uwspółcześnienia</a>, <a href=\"/media/book/pdf/asnyk-fresk-pompejanski.pdf\">PDF</a>, <a href=\"/media/book/mobi/asnyk-fresk-pompejanski.mobi\">MOBI</a>, <a href=\"/media/book/fb2/asnyk-fresk-pompejanski.fb2\">FB2</a>, <a href=\"/katalog/custompdf/asnyk-fresk-pompejanski/\">Stwórz własny plik PDF</a>, <a href=\"/katalog/lektura/asnyk-czego-ci-trzeba-dzis-posepny-tlumie/\">[Czego ci trzeba dziś, posępny tłumie...]</a>, <a href=\"/katalog/lektura/asnyk-kiedym-cie-zegnal/\">[Kiedym cię żegnał...]</a>, <a href=\"/katalog/lektura/asnyk-a-sonnet-one-heart/\">A Sonnet (One Heart)</a>, <a href=\"/katalog/lektura/asnyk-apostrofa/\">Apostrofa</a>, <a href=\"/katalog/lektura/asnyk-bezimiennemu/\">Bezimiennemu</a>, <a href=\"/katalog/lektura/asnyk-choc-pol-i-lak/\">Choć pól i łąk</a>, <a href=\"/katalog/lektura/do-mlodych/\">Do młodych</a>, <a href=\"/katalog/lektura/asnyk-dwie-fazy/\">Dwie fazy</a>, <a href=\"/katalog/lektura/asnyk-fale/\">Fale</a>, <a href=\"/katalog/lektura/asnyk-fresk-pompejanski/\">Fresk pompejański</a>, <a href=\"/katalog/lektura/asnyk-glos-wolajacy-na-puszczy/\">Głos wołający na puszczy</a>, <a href=\"/katalog/lektura/asnyk-historyczna-nowa-szkola/\">Historyczna nowa szkoła</a>, <a href=\"/katalog/lektura/asnyk-j-kollarowi/\">J. Kollarowi</a>, <a href=\"/katalog/lektura/asnyk-krag-przemian/\">Krąg przemian</a>, <a href=\"/katalog/lektura/miedzy-nami-nic-nie-bylo/\">Między nami nic nie było</a>, <a href=\"/katalog/lektura/asnyk-morskie-oko/\">Morskie oko</a>, <a href=\"/katalog/lektura/asnyk-nad-glebiami/\">Nad głębiami</a>, <a href=\"/katalog/lektura/asnyk-oh-void-complaints/\">Oh, Void Complaints</a>, <a href=\"/katalog/lektura/zaczarowana-krolewna/\">Zaczarowana królewna</a>, <a href=\"/katalog/epoka/pozytywizm/gatunek/wiersz/autor/adam-asnyk/motyw/bog/\">Bóg\\xa0(1)</a>, <a href=\"/katalog/epoka/pozytywizm/gatunek/wiersz/autor/adam-asnyk/motyw/czas/\">Czas\\xa0(2)</a>, <a href=\"/katalog/epoka/pozytywizm/gatunek/wiersz/autor/adam-asnyk/motyw/dusza/\">Dusza\\xa0(1)</a>, <a href=\"/katalog/epoka/pozytywizm/gatunek/wiersz/autor/adam-asnyk/motyw/kondycja-ludzka/\">Kondycja ludzka\\xa0(1)</a>, <a href=\"/katalog/epoka/pozytywizm/gatunek/wiersz/autor/adam-asnyk/motyw/madrosc/\">Mądrość\\xa0(1)</a>, <a href=\"/katalog/epoka/pozytywizm/gatunek/wiersz/autor/adam-asnyk/motyw/natura/\">Natura\\xa0(1)</a>, <a href=\"/katalog/epoka/pozytywizm/gatunek/wiersz/autor/adam-asnyk/motyw/przemijanie/\">Przemijanie\\xa0(3)</a>, <a href=\"http://pl.wikipedia.org/wiki/Wiersz\"']"
      ]
     },
     "execution_count": 32,
     "metadata": {},
     "output_type": "execute_result"
    }
   ],
   "source": [
    "\n",
    "scrap.preparing_links()"
   ]
  },
  {
   "cell_type": "code",
   "execution_count": 8,
   "metadata": {},
   "outputs": [
    {
     "data": {
      "text/plain": [
       "'https://wolnelektury.pl/katalog/epoka/pozytywizm/gatunek/wiersz/autor/adam-asnyk/'"
      ]
     },
     "execution_count": 8,
     "metadata": {},
     "output_type": "execute_result"
    }
   ],
   "source": []
  }
 ],
 "metadata": {
  "kernelspec": {
   "display_name": "Python 3",
   "language": "python",
   "name": "python3"
  },
  "language_info": {
   "codemirror_mode": {
    "name": "ipython",
    "version": 3
   },
   "file_extension": ".py",
   "mimetype": "text/x-python",
   "name": "python",
   "nbconvert_exporter": "python",
   "pygments_lexer": "ipython3",
   "version": "3.7.4"
  }
 },
 "nbformat": 4,
 "nbformat_minor": 2
}
